{
 "cells": [
  {
   "cell_type": "markdown",
   "id": "496704c8",
   "metadata": {},
   "source": [
    "## 전처리"
   ]
  },
  {
   "cell_type": "markdown",
   "id": "0adab570",
   "metadata": {},
   "source": [
    "결측치 제거하기"
   ]
  },
  {
   "cell_type": "code",
   "execution_count": 1,
   "id": "377df00b",
   "metadata": {},
   "outputs": [],
   "source": [
    "import pandas as pd"
   ]
  },
  {
   "cell_type": "code",
   "execution_count": 2,
   "id": "e27e5b82",
   "metadata": {},
   "outputs": [],
   "source": [
    "#원본파일(data.csv) 읽어오기\n",
    "file_path = 'data.csv'\n",
    "df = pd.read_csv(file_path, encoding='cp949')\n",
    "\n",
    "#결측치 제거\n",
    "df_cleaned = df.dropna()\n",
    "\n",
    "#결측치 제거 후 파일 저장\n",
    "cleaned_file_path = '1_data.csv'\n",
    "df_cleaned.to_csv(cleaned_file_path, index=False, encoding='cp949')"
   ]
  },
  {
   "cell_type": "markdown",
   "id": "1a4ef1d7",
   "metadata": {},
   "source": [
    "평균, 표준편차\n",
    "<hr>\n",
    "평균, 표준편차 사용 이유\n",
    "<br> : X 변수들은 시계열 데이터지만 Y 변수는 배정번호 별 데이터로 되어있기 때문에 X 변수들의 배정번호별 통계값(평균, 표준편차) 산출이 필요함"
   ]
  },
  {
   "cell_type": "code",
   "execution_count": 3,
   "id": "20194716",
   "metadata": {},
   "outputs": [],
   "source": [
    "#결측치 제거 파일 읽어오기\n",
    "file_path = '1_data.csv'\n",
    "df2 = pd.read_csv(file_path, encoding='cp949')\n",
    "\n",
    "# 배정번호 컬럼 (그룹화 기준이 되는 컬럼명)\n",
    "assignment_column = '배정번호'\n",
    "\n",
    "# 숫자형 컬럼만 선택\n",
    "numeric_columns = df2.select_dtypes(include=['number']).columns.drop(assignment_column)\n",
    "grouped = df2.groupby(assignment_column)[numeric_columns].agg(['mean', 'std']).reset_index()\n",
    "\n",
    "# 컬럼명 정리\n",
    "grouped.columns = ['_'.join(col).strip() if col[1] else col[0] for col in grouped.columns.values]\n",
    "\n",
    "# 결과를 새로운 CSV 파일로 저장\n",
    "output_file_path = '2_data.csv'\n",
    "grouped.to_csv(output_file_path, index=False, encoding='cp949')"
   ]
  },
  {
   "cell_type": "markdown",
   "id": "df6d926d",
   "metadata": {},
   "source": [
    "불량률 계산"
   ]
  },
  {
   "cell_type": "code",
   "execution_count": 4,
   "id": "b846b611",
   "metadata": {},
   "outputs": [],
   "source": [
    "file_path = '열처리_품질데이터.xlsx'\n",
    "df = pd.read_excel(file_path)\n",
    "\n",
    "# 불량 비율 계산\n",
    "df['불량률'] = df['불량수량'] / df['총수량']\n",
    "\n",
    "result_file_path = '1_열처리_품질데이터.xlsx'\n",
    "df.to_excel(result_file_path, index=False)"
   ]
  },
  {
   "cell_type": "markdown",
   "id": "840edda2",
   "metadata": {},
   "source": [
    "불량률 평균"
   ]
  },
  {
   "cell_type": "code",
   "execution_count": 5,
   "id": "08094892",
   "metadata": {},
   "outputs": [
    {
     "name": "stdout",
     "output_type": "stream",
     "text": [
      "불량률의 평균: 0.00037013106122237856\n"
     ]
    }
   ],
   "source": [
    "file_path = '1_열처리_품질데이터.xlsx'\n",
    "df = pd.read_excel(file_path)\n",
    "average_defect_rate = df['불량률'].mean()\n",
    "print(f'불량률의 평균: {average_defect_rate}')"
   ]
  },
  {
   "cell_type": "markdown",
   "id": "98dade81",
   "metadata": {},
   "source": [
    "불량률 배정번호에 맞게 넣어주기"
   ]
  },
  {
   "cell_type": "code",
   "execution_count": 8,
   "id": "913a259c",
   "metadata": {},
   "outputs": [
    {
     "name": "stdout",
     "output_type": "stream",
     "text": [
      "Index(['건조 1존 OP_mean', '건조 1존 OP_std', '건조 2존 OP_mean', '건조 2존 OP_std',\n",
      "       '건조로 온도 1 Zone_mean', '건조로 온도 1 Zone_std', '건조로 온도 2 Zone_mean',\n",
      "       '건조로 온도 2 Zone_std', '세정기_mean', '세정기_std', '소입1존 OP_mean',\n",
      "       '소입1존 OP_std', '소입2존 OP_mean', '소입2존 OP_std', '소입3존 OP_mean',\n",
      "       '소입3존 OP_std', '소입4존 OP_mean', '소입4존 OP_std', '소입로 CP 값_mean',\n",
      "       '소입로 CP 값_std', '소입로 CP 모니터 값_mean', '소입로 CP 모니터 값_std',\n",
      "       '소입로 온도 1 Zone_mean', '소입로 온도 1 Zone_std', '소입로 온도 2 Zone_mean',\n",
      "       '소입로 온도 2 Zone_std', '소입로 온도 3 Zone_mean', '소입로 온도 3 Zone_std',\n",
      "       '소입로 온도 4 Zone_mean', '소입로 온도 4 Zone_std', '솔트 컨베이어 온도 1 Zone_mean',\n",
      "       '솔트 컨베이어 온도 1 Zone_std', '솔트 컨베이어 온도 2 Zone_mean',\n",
      "       '솔트 컨베이어 온도 2 Zone_std', '솔트조 온도 1 Zone_mean', '솔트조 온도 1 Zone_std',\n",
      "       '솔트조 온도 2 Zone_mean', '솔트조 온도 2 Zone_std', '상태'],\n",
      "      dtype='object')\n"
     ]
    }
   ],
   "source": [
    "xlsx_file_path = '1_열처리_품질데이터.xlsx'\n",
    "csv_file_path = '2_data.csv'\n",
    "\n",
    "df_excel = pd.read_excel(xlsx_file_path)\n",
    "df_csv = pd.read_csv(csv_file_path, encoding='cp949')\n",
    "\n",
    "# 위험, 안전 분류(0.0003 넘으면 위험, 아니면 안전)\n",
    "df_excel['상태'] = df_excel['불량률'].apply(lambda x: '위험' if x >= 0.0003 else '안전')\n",
    "\n",
    "# 필요한 열 선택\n",
    "df_excel_status = df_excel[['배정번호', '상태']]\n",
    "\n",
    "# 두 데이터프레임 병합(배정번호 기준)\n",
    "df_merged = pd.merge(df_csv, df_excel_status, on='배정번호', how='left')\n",
    "\n",
    "# '배정번호' 열 제거\n",
    "df_merged = df_merged.drop(columns=['배정번호'])\n",
    "\n",
    "#print(df_merged.columns)\n",
    "\n",
    "# 열 제거\n",
    "columns_to_drop = ['소입로 CP 모니터 값_mean', '소입로 CP 모니터 값_std']\n",
    "df_merged = df_merged.drop(columns=columns_to_drop, axis=1)\n",
    "\n",
    "result_file_path = '1_train.csv'\n",
    "df_merged.to_csv(result_file_path, index=False, encoding='cp949')"
   ]
  }
 ],
 "metadata": {
  "kernelspec": {
   "display_name": "Python 3 (ipykernel)",
   "language": "python",
   "name": "python3"
  },
  "language_info": {
   "codemirror_mode": {
    "name": "ipython",
    "version": 3
   },
   "file_extension": ".py",
   "mimetype": "text/x-python",
   "name": "python",
   "nbconvert_exporter": "python",
   "pygments_lexer": "ipython3",
   "version": "3.11.5"
  }
 },
 "nbformat": 4,
 "nbformat_minor": 5
}
